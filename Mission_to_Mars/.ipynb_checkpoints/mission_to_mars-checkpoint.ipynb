{
 "cells": [
  {
   "cell_type": "code",
   "execution_count": 1,
   "metadata": {},
   "outputs": [],
   "source": [
    "# Dependencies\n",
    "from bs4 import BeautifulSoup\n",
    "import requests\n",
    "import os\n",
    "from splinter import Browser\n",
    "from webdriver_manager.chrome import ChromeDriverManager\n",
    "import pandas as pd\n",
    "import pymongo"
   ]
  },
  {
   "cell_type": "markdown",
   "metadata": {},
   "source": [
    "Step 1 - Scraping\n",
    "\n",
    "Hints\n",
    "*Use Splinter to navigate the sites when needed and BeautifulSoup to help find and parse out the necessary data.\n",
    "*Use Pymongo for CRUD applications for your database. For this homework, you can simply overwrite the existing document each time the /scrape url is visited and new data is obtained.\n",
    "*Use Bootstrap to structure your HTML template."
   ]
  },
  {
   "cell_type": "markdown",
   "metadata": {},
   "source": [
    "NASA Mars News"
   ]
  },
  {
   "cell_type": "code",
   "execution_count": 2,
   "metadata": {},
   "outputs": [],
   "source": [
    "# --Scrape the NASA Mars News Site and collect the latest News Title and Paragraph Text. \n",
    "\n",
    "# Initialize PyMongo to work with MongoDBs\n",
    "conn = 'mongodb://localhost:27017'\n",
    "client = pymongo.MongoClient(conn)"
   ]
  },
  {
   "cell_type": "code",
   "execution_count": 3,
   "metadata": {},
   "outputs": [],
   "source": [
    "# Define database and collection\n",
    "db = client.nasa_db\n",
    "collection = db.news"
   ]
  },
  {
   "cell_type": "code",
   "execution_count": 4,
   "metadata": {},
   "outputs": [],
   "source": [
    "# URL of page to be scraped\n",
    "url = 'https://mars.nasa.gov/news/8875/testing-proves-its-worth-with-successful-mars-parachute-deployment/'\n",
    "\n",
    "# Retrieve page with the requests module\n",
    "response = requests.get(url)"
   ]
  },
  {
   "cell_type": "code",
   "execution_count": 5,
   "metadata": {},
   "outputs": [],
   "source": [
    "# --Read HTML from file\n",
    "\n",
    "# Create BeautifulSoup object; parse with 'html.parser'\n",
    "soup = BeautifulSoup(response.text, 'html.parser')"
   ]
  },
  {
   "cell_type": "code",
   "execution_count": 14,
   "metadata": {},
   "outputs": [
    {
     "name": "stdout",
     "output_type": "stream",
     "text": [
      "-----------------\n",
      "<h1 class=\"article_title\">\n",
      "Testing Proves Its Worth With Successful Mars Parachute Deployment\n",
      "</h1>\n",
      "[<p><i>The giant canopy that helped land Perseverance on Mars was tested here on Earth at NASA’s Wallops Flight Facility in Virginia.</i></p>, <p>Test. Test again. Test again.</p>, <p>Testing spacecraft components prior to flight is vital for a successful mission.</p>, <p>Rarely do you get a do-over with a spacecraft after it launches, especially those bound for another planet. You need to do everything possible to get it right the first time.</p>, <p>Three successful sounding rocket missions from NASA’s Wallops Flight Facility in Virginia in 2017 and 2018 to test a supersonic parachute proved their worth with the successful landing of the <a href=\"https://nasa.gov/perseverance\" target=\"_blank\">Perseverance</a> mission on the Red Planet.</p>, <p>After traveling 293 million miles (472 million kilometers), the supersonic parachutes, designed to slow the rover’s descent to the planet’s surface, successfully deployed and inflated. They made the smooth touchdown of Perseverance possible.</p>, <p><div class=\"column-width image_module\" style=\"\">\n",
      "<figure class=\"inline_figure\">\n",
      "<a class=\"inline_image_enlarge fancybox\" href=\"/system/resources/detail_files/25615_PIA24270.jpg\">\n",
      "<img alt=\"descent stage holding NASAs Perseverance rover can be seen falling thorough the Martian atmosphere\" src=\"/system/resources/detail_files/25615_PIA24270.jpg\"/>\n",
      "<div class=\"enlarge_icon\"></div>\n",
      "</a>\n",
      "<figcaption>\n",
      "<b>HiRISE Captured Perseverance During Descent to Mars: </b>The descent stage holding NASAs Perseverance rover can be seen falling thorough the Martian atmosphere in this image taken on Feb. 18, 2021 by the HiRISE camera aboard the Mars Reconnaissance Orbiter. An ellipse indicates where Perseverance touched down. Credit: NASA/JPL-Caltech/University of Arizona. <a href=\"/resources/25615/hirise-captured-perseverance-during-descent-to-mars/\">Download image ›</a>\n",
      "</figcaption>\n",
      "</figure>\n",
      "</div>This mission required us to design and build a 72-foot parachute that could survive inflating in a Mach 2 wind in about half a second. This is an extraordinary engineering challenge, but one that was absolutely necessary for the mission,” said Ian Clark, the test’s technical lead from NASA’s Jet Propulsion Laboratory in Southern California. “To ensure they worked at Mars under those harsh conditions, we had to test our parachute designs here at Earth first. Replicating the Martian environment meant that we needed to get our payload halfway to the edge of space and go twice the speed of sound. Sounding rockets were critical to our testing and ultimately our landing on Mars.”</p>, <p>The NASA team tested the parachute three times in Mars-relevant conditions, using Black Brant IX sounding rockets. The <a href=\"https://mars.nasa.gov/news/8380/third-aspire-test-confirms-mars-2020-parachute-a-go/\">final test flight</a> exposed the chute to a 67,000-pound (300,000-Newton) load – the highest ever survived by a supersonic parachute and about 85% higher than what the mission’s chute was expected to encounter during deployment in Mars’ atmosphere.</p>, <p>“When the spacecraft successfully touched down last week, it was a great feeling of accomplishment for the parachute testing team,” said Giovanni Rosanova, chief of the NASA Sounding Rockets Program Office at Wallops. “Placing the test component in the right conditions with a sounding rocket was challenging, and the importance of the tests to the success of the Mars landing was an exciting motivating factor for the team. We are proud to have been a part of this mission.”</p>, <p>Suborbital vehicles – sounding rockets, scientific balloons, and aircraft – are great platforms for developing and testing spacecraft instruments and components. Spacecraft including <a href=\"https://www.nasa.gov/mission_pages/terra/index.html\" target=\"_blank\">Terra</a>, <a href=\"https://www.nasa.gov/mission_pages/aqua/index.html\" target=\"_blank\">Aqua</a>, <a href=\"https://lambda.gsfc.nasa.gov/product/cobe/\" target=\"_blank\">COBE</a>, <a href=\"https://heasarc.gsfc.nasa.gov/docs/cgro/index.html\" target=\"_blank\">CGRO</a>, <a href=\"https://www.nasa.gov/mission_pages/spitzer/main/index.html\" target=\"_blank\">SPITZER</a>, <a href=\"https://www.nasa.gov/mission_pages/swift/main\" target=\"_blank\">SWIFT</a>, <a href=\"https://www.nasa.gov/mission_pages/hubble/main/index.html\" target=\"_blank\">HST</a>, <a href=\"https://www.nasa.gov/mission_pages/soho/index.html\" target=\"_blank\">SOHO</a>, and <a href=\"https://www.nasa.gov/mission_pages/stereo/main/index.html\" target=\"_blank\">STEREO</a> have heritage connected with suborbital vehicle missions.</p>, <p>Rosanova said, “One of the beauties of suborbital vehicles is that an instrument or its components can be flown, improved, and then re-flown. This can be done within a few years, providing the opportunity for scientists to work out the bugs before flying on a spacecraft.”</p>, <p>In the case of the Mars 2020 parachutes, the first flight was a test to see if the right conditions can be achieved during the flight to simulate what the parachutes will encounter descending through the Mars’ atmosphere. The second flight, 6 months later in March 2018, was the first full test of the parachute. The final successful test, conducted in September 2018, provided the results needed for the Perseverance parachute team to be confident that the design was ready for the <a href=\"https://mars.nasa.gov/mars2020/\">Mars 2020</a> mission.</p>, <p>NASA is currently developing plans for a <a href=\"https://www.jpl.nasa.gov/missions/mars-sample-return-msr\" target=\"_blank\">Mars Sample Return mission</a> to retrieve the rocks and soil samples collected by Perseverance and return them to Earth. Teams are preparing to test concepts for the Mars Ascent Vehicle that will carry the collected samples from the planet’s surface.</p>, <p>Suborbital vehicles – either a sounding rocket or a scientific balloon – are being examined for testing the ascent vehicle. Wallops personnel are excited to be a part of this next step of exploring the Red Planet as we go the Moon, Mars, and beyond.</p>, <p><b>More About the Mission</b></p>, <p>A key objective for Perseverance’s mission on Mars is <a href=\"https://astrobiology.nasa.gov/\" target=\"_blank\">astrobiology</a>, including the search for signs of ancient microbial life. The rover will characterize the planet’s geology and past climate, pave the way for human exploration of the Red Planet, and be the first mission to collect and cache Martian rock and regolith (broken rock and dust).</p>, <p>Subsequent NASA missions, in cooperation with ESA (European Space Agency), would send spacecraft to Mars to collect these sealed samples from the surface and return them to Earth for in-depth analysis.</p>, <p>The Mars 2020 Perseverance mission is part of NASA’s Moon to Mars exploration approach, which includes <a href=\"https://www.nasa.gov/specials/artemis/\">Artemis</a> missions to the Moon that will help prepare for human exploration of the Red Planet.</p>, <p>JPL, which is managed for NASA by Caltech in Pasadena, California, built and manages operations of the Perseverance rover.</p>, <p>For more about Perseverance:</p>, <p><a href=\"https://mars.nasa.gov/mars2020/\"><b>mars.nasa.gov/mars2020/</b></a></p>, <p><a href=\"https://nasa.gov/perseverance\" target=\"_blank\"><b>nasa.gov/perseverance</b></a></p>, <p> </p>, <p><b>News Media Contacts</b><br/>\n",
      "DC Agle <br/>\n",
      "Jet Propulsion Laboratory, Pasadena, Calif.<br/>\n",
      "818-393-9011<br/>\n",
      "<a href=\"mailto:agle@jpl.nasa.gov\">agle@jpl.nasa.gov</a></p>, <p>Keith Koehler<br/>\n",
      "NASA’s Wallops Flight Facility<br/>\n",
      "757-824-1579<br/>\n",
      "<a href=\"mailto:keith.a.koehler@nasa.gov\">keith.a.koehler@nasa.gov</a></p>]\n",
      "-----------------\n",
      "None\n",
      "[]\n",
      "-----------------\n",
      "None\n",
      "[]\n",
      "-----------------\n",
      "None\n",
      "[<p>Managed by the Mars Exploration Program and the Jet Propulsion Laboratory for NASA’s Science Mission Directorate</p>]\n"
     ]
    }
   ],
   "source": [
    "\n",
    "# Retrieve the parent divs for all articles\n",
    "results = soup.find_all('div', class_='grid_layout')\n",
    "\n",
    "# loop over results to get article data\n",
    "for result in results:\n",
    "    \n",
    "    # scrape the article header \n",
    "    news_title = result.find('h1', class_='article_title')\n",
    "    \n",
    "    # scrape the article paragraph \n",
    "    news_p = result.find_all('p')\n",
    "    \n",
    "   \n",
    "    # print article data\n",
    "    print('-----------------')\n",
    "    print(news_title)\n",
    "    print(news_p)\n",
    "   \n",
    "    \n",
    "#     # Dictionary to be inserted into MongoDB\n",
    "#     post = {\n",
    "#         'news_title': news_title,\n",
    "#         'news_p': news_p,\n",
    "#     }\n",
    "\n",
    "#     # Insert dictionary into MongoDB as a document\n",
    "#     collection.insert_one(post)\n",
    "\n",
    "# --Assign the text to variables that you can reference later.\n",
    "\n",
    "# --Example:\n",
    "# news_title = \"NASA's Next Mars Mission to Investigate Interior of Red Planet\"\n",
    "# news_p = \"Preparation of NASA's next spacecraft to Mars, InSight, has ramped up this summer, on course for launch next May from Vandenberg Air Force Base in central California -- the first interplanetary launch in history from America's West Coast.\" -->\n"
   ]
  },
  {
   "cell_type": "code",
   "execution_count": null,
   "metadata": {},
   "outputs": [],
   "source": []
  },
  {
   "cell_type": "markdown",
   "metadata": {},
   "source": [
    "JPL Mars Space Images - Featured Image"
   ]
  },
  {
   "cell_type": "code",
   "execution_count": null,
   "metadata": {},
   "outputs": [],
   "source": [
    "# Visit the url for JPL Featured Space Image here.\n",
    "\n",
    "# Use splinter to navigate the site and find the image url for the current Featured Mars Image and assign the url string to a variable called featured_image_url.\n",
    "\n",
    "# Make sure to find the image url to the full size .jpg image.\n",
    "\n",
    "# Make sure to save a complete url string for this image.\n",
    "\n",
    "# Example:\n",
    "# featured_image_url = 'https://data-class-jpl-space.s3.amazonaws.com/JPL_Space/image/featured/mars2.jpg'"
   ]
  },
  {
   "cell_type": "markdown",
   "metadata": {},
   "source": [
    "Mars Facts"
   ]
  },
  {
   "cell_type": "code",
   "execution_count": null,
   "metadata": {},
   "outputs": [],
   "source": [
    "# Visit the Mars Facts webpage here and use Pandas to scrape the table containing facts about the planet including Diameter, Mass, etc.\n",
    "\n",
    "# Use Pandas to convert the data to a HTML table string."
   ]
  },
  {
   "cell_type": "markdown",
   "metadata": {},
   "source": [
    "Mars Hemispheres"
   ]
  },
  {
   "cell_type": "code",
   "execution_count": null,
   "metadata": {},
   "outputs": [],
   "source": [
    "# Visit the USGS Astrogeology site here to obtain high resolution images for each of Mar's hemispheres.\n",
    "\n",
    "# You will need to click each of the links to the hemispheres in order to find the image url to the full resolution image.\n",
    "\n",
    "# Save both the image url string for the full resolution hemisphere image, and the Hemisphere title containing the hemisphere name. \n",
    "# Use a Python dictionary to store the data using the keys img_url and title.\n",
    "\n",
    "# Append the dictionary with the image url string and the hemisphere title to a list. This list will contain one dictionary for each hemisphere.\n",
    "\n",
    "# Example:\n",
    "# hemisphere_image_urls = [\n",
    "#     {\"title\": \"Valles Marineris Hemisphere\", \"img_url\": \"...\"},\n",
    "#     {\"title\": \"Cerberus Hemisphere\", \"img_url\": \"...\"},\n",
    "#     {\"title\": \"Schiaparelli Hemisphere\", \"img_url\": \"...\"},\n",
    "#     {\"title\": \"Syrtis Major Hemisphere\", \"img_url\": \"...\"},\n",
    "# ]\n"
   ]
  },
  {
   "cell_type": "markdown",
   "metadata": {},
   "source": [
    "Step 2 - MongoDB and Flask Application"
   ]
  },
  {
   "cell_type": "code",
   "execution_count": null,
   "metadata": {},
   "outputs": [],
   "source": [
    "# Use MongoDB with Flask templating to create a new HTML page that displays all of the information that was scraped from the URLs above.\n",
    "\n",
    "# Start by converting your Jupyter notebook into a Python script called scrape_mars.py with a function called scrape that will \n",
    "# execute all of your scraping code from above and return one Python dictionary containing all of the scraped data.\n",
    "\n",
    "# Next, create a route called /scrape that will import your scrape_mars.py script and call your scrape function.\n",
    "\n",
    "# Store the return value in Mongo as a Python dictionary.\n",
    "\n",
    "# Create a root route / that will query your Mongo database and pass the mars data into an HTML template to display the data.\n",
    "\n",
    "# Create a template HTML file called index.html that will take the mars data dictionary and display all of the data in the appropriate \n",
    "# HTML elements. Use the following as a guide for what the final product should look like, but feel free to create your own design."
   ]
  },
  {
   "cell_type": "markdown",
   "metadata": {},
   "source": [
    "Step 3 - Submission\n",
    "\n",
    "To submit your work to BootCampSpot, create a new GitHub repository and upload the following:\n",
    "\n",
    "-The Jupyter Notebook containing the scraping code used.\n",
    "-Screenshots of your final application.\n",
    "-Submit the link to your new repository to BootCampSpot.\n",
    "-Ensure your repository has regular commits (i.e. 20+ commits) and a thorough README.md file"
   ]
  }
 ],
 "metadata": {
  "kernelspec": {
   "display_name": "Python [conda env:PythonData]",
   "language": "python",
   "name": "conda-env-PythonData-py"
  },
  "language_info": {
   "codemirror_mode": {
    "name": "ipython",
    "version": 3
   },
   "file_extension": ".py",
   "mimetype": "text/x-python",
   "name": "python",
   "nbconvert_exporter": "python",
   "pygments_lexer": "ipython3",
   "version": "3.6.10"
  },
  "varInspector": {
   "cols": {
    "lenName": 16,
    "lenType": 16,
    "lenVar": 40
   },
   "kernels_config": {
    "python": {
     "delete_cmd_postfix": "",
     "delete_cmd_prefix": "del ",
     "library": "var_list.py",
     "varRefreshCmd": "print(var_dic_list())"
    },
    "r": {
     "delete_cmd_postfix": ") ",
     "delete_cmd_prefix": "rm(",
     "library": "var_list.r",
     "varRefreshCmd": "cat(var_dic_list()) "
    }
   },
   "types_to_exclude": [
    "module",
    "function",
    "builtin_function_or_method",
    "instance",
    "_Feature"
   ],
   "window_display": false
  }
 },
 "nbformat": 4,
 "nbformat_minor": 2
}
